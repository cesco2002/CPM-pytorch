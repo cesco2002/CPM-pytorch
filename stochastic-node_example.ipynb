{
 "cells": [
  {
   "cell_type": "code",
   "execution_count": 4,
   "metadata": {
    "collapsed": true,
    "pycharm": {
     "name": "#%%\n"
    }
   },
   "outputs": [],
   "source": [
    "import torch\n",
    "import torch.nn as nn\n",
    "import torch.optim as optim\n",
    "import torch.distributions as dist"
   ]
  },
  {
   "cell_type": "markdown",
   "source": [
    "The function takes a random variable Z ~exp(a) [for clarity regarding the notation, here the\n",
    "parameter 'a' is intended such that E(Z) = a]. Given input data X as integers, the\n",
    " output of function y is Y= X*Z\n",
    "\n",
    "Starting with a parameter of my choice, I constructed some synthetic data.\n",
    "My goal was then to create a model able to guess that starting paramater\n",
    "\n",
    "the trick was to call a random vairiable epsilon with uniform distribution that, rearrenged,\n",
    " behaves like a exponential distribution. This trick involves computing the inverse of the\n",
    " CDF of the exp distribution.\n",
    "\n",
    " in brief if eps~unif(0,1)  and Z = -ln(1-eps)/a --> Z~exp(a)\n",
    " moreover y would now be Y= x*Z = x* (-ln(1-eps)/a) = x/a * (-ln(1-eps))\n",
    "\n",
    " I can now apply the reparametrization trick with a forward (deterministic) function\n",
    " that depends on x and a (differentiable!!), and compute values of eps in order to get\n",
    " reliable y_pred values."
   ],
   "metadata": {
    "collapsed": false,
    "pycharm": {
     "name": "#%% md\n"
    }
   }
  },
  {
   "cell_type": "code",
   "execution_count": 5,
   "outputs": [
    {
     "name": "stdout",
     "output_type": "stream",
     "text": [
      "Epoch [100/1000], Loss: 1.137718677520752\n",
      "Epoch [200/1000], Loss: 1.6731791496276855\n",
      "Epoch [300/1000], Loss: 0.16615675389766693\n",
      "Epoch [400/1000], Loss: 0.5110507011413574\n",
      "Epoch [500/1000], Loss: 0.048011913895606995\n",
      "Epoch [600/1000], Loss: 0.09210830181837082\n",
      "Epoch [700/1000], Loss: 3.226335684303194e-05\n",
      "Epoch [800/1000], Loss: 0.09387179464101791\n",
      "Epoch [900/1000], Loss: 0.2512795627117157\n",
      "Epoch [1000/1000], Loss: 0.10957447439432144\n",
      "tensor(51.1566) tensor(51.4876, grad_fn=<MeanBackward0>)\n",
      "True parameter 'a': 5 Learned parameter 'a': 5.0678629875183105\n"
     ]
    }
   ],
   "source": [
    "torch.manual_seed(0)\n",
    "\n",
    "class MyModel(nn.Module):\n",
    "    def __init__(self):\n",
    "        super(MyModel, self).__init__()\n",
    "        self.a = nn.Parameter(torch.tensor([1.0]))  # Linear layer for parameter 'b'\n",
    "\n",
    "    def forward(self, x):\n",
    "        y_pred = x*self.a\n",
    "\n",
    "        return y_pred\n",
    "\n",
    "x_train = torch.randint(0, 21, (1, 10000)).float()  # Random input data\n",
    "a_true = torch.tensor(5)      # True value of parameter 'a'\n",
    "Z_train = torch.distributions.exponential.Exponential(1/a_true).sample(x_train.shape)# Generate Z from exp distribution\n",
    "y_train = x_train * Z_train     # Compute y from the stochastic function\n",
    "\n",
    "# Instantiate the model\n",
    "model = MyModel()\n",
    "\n",
    "# Define optimizer\n",
    "optimizer = optim.SGD(model.parameters(), lr=0.001)\n",
    "\n",
    "# Training loop\n",
    "epochs = 1000\n",
    "eps = torch.rand_like(x_train)\n",
    "for epoch in range(epochs):\n",
    "    eps = torch.rand_like(x_train)\n",
    "    Z = -torch.log(1-eps)\n",
    "    y_pred= model(x_train) * Z\n",
    "\n",
    "\n",
    "    loss = (y_pred.mean()-y_train.mean())**2\n",
    "    #worth of mention that is quite meaningless here to compute the MSE of predicted vs true\n",
    "    # values due to the fact that the difference between single predictions can simply derive\n",
    "    # from the stochastic process. Instead look at mean (think about expected value of y that\n",
    "    # depend on parameter a)\n",
    "\n",
    "    optimizer.zero_grad()\n",
    "    loss.backward()\n",
    "    optimizer.step()\n",
    "\n",
    "    if (epoch+1) % 100 == 0:\n",
    "        print(f'Epoch [{epoch+1}/{epochs}], Loss: {loss.item()}')\n",
    "\n",
    "print(y_train.mean(), y_pred.mean())\n",
    "print(\"True parameter 'a':\", a_true.item(),\"Learned parameter 'a':\", model.a.item())"
   ],
   "metadata": {
    "collapsed": false,
    "pycharm": {
     "name": "#%%\n"
    }
   }
  }
 ],
 "metadata": {
  "kernelspec": {
   "display_name": "Python 3",
   "language": "python",
   "name": "python3"
  },
  "language_info": {
   "codemirror_mode": {
    "name": "ipython",
    "version": 2
   },
   "file_extension": ".py",
   "mimetype": "text/x-python",
   "name": "python",
   "nbconvert_exporter": "python",
   "pygments_lexer": "ipython2",
   "version": "2.7.6"
  }
 },
 "nbformat": 4,
 "nbformat_minor": 0
}