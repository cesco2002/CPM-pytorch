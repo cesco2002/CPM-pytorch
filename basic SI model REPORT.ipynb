{
 "cells": [
  {
   "cell_type": "code",
   "execution_count": 11,
   "metadata": {
    "collapsed": true
   },
   "outputs": [],
   "source": [
    "import time\n",
    "\n",
    "import torch\n",
    "from matplotlib import pyplot as plt\n",
    "import torch.nn as nn\n",
    "import torch.optim as optim\n",
    "import torch.nn.functional as F\n",
    "from matplotlib.colors import ListedColormap\n"
   ]
  },
  {
   "cell_type": "code",
   "execution_count": 12,
   "outputs": [],
   "source": [
    "\n",
    "def sample_gumbel(shape, eps=1e-20):\n",
    "    U = torch.rand(shape)\n",
    "    return -torch.log(-torch.log(U + eps) + eps)\n",
    "\n",
    "def gumbel_softmax_sample(logits, temperature):\n",
    "    y = logits + sample_gumbel(logits.size())\n",
    "    return F.softmax(y / temperature, dim=-1)\n",
    "\n",
    "\n",
    "def SI(x, param_inf):\n",
    "    \"\"\"Function based on the following definition of SIR model:\n",
    "    an healthy individual can be infected w.p. 1-(1-param_inf)^N where N are the infected neighbours around\n",
    "    an infected individual can recover (and become again suscpetiple) w.p. param_rec\n",
    "\n",
    "    \"\"\"\n",
    "    x = x.unsqueeze(0) # Add a dimension to the starting grid\n",
    "    # Define the 3x3 kernel with all values set to 1\n",
    "    kernel = torch.ones(1, 1, 3, 3, dtype=torch.float32)\n",
    "\n",
    "    # and middle value to 0\n",
    "    kernel[0][0][1][1] = 0\n",
    "\n",
    "    # Perform convolution\n",
    "    neighbors_count = F.conv2d(x.float(), kernel, padding=1)\n",
    "\n",
    "    #GUMBEL - SOFTMAX TRICK THAT BEHAVES LIKE ~Bern(1-(1-beta)^N)\n",
    "    #here I always keep the dimensionality of n x n\n",
    "    bernoulli_param = 1-(1-param_inf)**neighbors_count\n",
    "\n",
    "    ## add the feature that infected indivduals can recover w.p. param_rec\n",
    "\n",
    "    #draw n x n Bernoulli distributed RV according to parameters described above\n",
    "    random_uniform = torch.rand(x.size())\n",
    "    y_pred = (bernoulli_param>=random_uniform).int()\n",
    "\n",
    "    # making sure that if a pixel was already infected, stays infected\n",
    "\n",
    "    #making sure that an healthy pixel with no neighbours doesnt get infected\n",
    "    y_pred[neighbors_count==0] = 0\n",
    "    y_pred[x==1] = 1\n",
    "\n",
    "    return y_pred.type(torch.FloatTensor)\n",
    "\n",
    "class STEFunction(torch.autograd.Function):\n",
    "    @staticmethod\n",
    "    def forward(ctx, x, sample_gumbel, temperature, paramInf):\n",
    "        \"\"\"Forward function that makes use of Gumbel-Max trick to replicate the basic\n",
    "        SI model\n",
    "        \"\"\"\n",
    "\n",
    "        batch_size = x.size()[0]\n",
    "        x = x.reshape(batch_size,1,100,100) # Add a dimension to the starting grid\n",
    "\n",
    "        # Define the 3x3 kernel with all values set to 1\n",
    "        kernel = torch.ones(1, 1, 3, 3, dtype=torch.float32)\n",
    "        # and middle value to 0\n",
    "        kernel[0][0][1][1] = 0\n",
    "\n",
    "        # Perform convolution\n",
    "        neighbors_count = F.conv2d(x, kernel, padding=1).reshape(batch_size,100,100)\n",
    "        x= x.reshape(batch_size,100,100)\n",
    "\n",
    "        #initialize categorical probability matrix based on model's definition\n",
    "        logits_input = 1-(1-paramInf)**neighbors_count\n",
    "        logits_input[x==1] = 1\n",
    "        logits = torch.stack((torch.log(1-logits_input), torch.log(logits_input))).reshape((2,batch_size,x.size()[2],x.size()[2]))\n",
    "\n",
    "        #add log-prob with Gumbel-distributed noise\n",
    "        softmax_input = logits + sample_gumbel\n",
    "        z = F.softmax(softmax_input / temperature, dim=0)\n",
    "\n",
    "        ctx.save_for_backward(x, sample_gumbel, torch.tensor([temperature]), paramInf, z)\n",
    "\n",
    "        y_pred = z.argmax(dim=0)\n",
    "\n",
    "        #making sure that an healthy pixel with no neighbours doesnt get infected\n",
    "        y_pred[neighbors_count==0] = 0\n",
    "\n",
    "        return y_pred.type(torch.FloatTensor)\n",
    "\n",
    "    @staticmethod\n",
    "    def backward(ctx, grad_output):\n",
    "        \"\"\"\"Straight through estimator\n",
    "        \"\"\"\n",
    "        x, sample_gumbel, temperature, paramInf, z = ctx.saved_tensors\n",
    "        grad_a = grad_output * (1 - x)  # Custom gradient for paramInf that \"pays attention\" to susceptible indvidual\n",
    "        return None, None, None, grad_a\n",
    "        #return None, None, None, torch.tan(grad_output)  # <- return the identity function\n",
    "\n",
    "class MyModel(nn.Module):\n",
    "    def __init__(self):\n",
    "        super(MyModel, self).__init__()\n",
    "        self.a = nn.Parameter(torch.tensor([0.99]), requires_grad=True)  #initializing param 'a'\n",
    "\n",
    "    def forward(self, x, sample_gumbel, temperature):\n",
    "        x = STEFunction.apply(x, sample_gumbel, temperature, self.a)\n",
    "        return x\n",
    "\n",
    "\n",
    "from torch.utils.data import Dataset, DataLoader\n",
    "\n",
    "class StochasticLatticeDataset(Dataset):\n",
    "    def __init__(self, data):\n",
    "        \"\"\"\n",
    "        Args:\n",
    "            data (Tensor): Tensor containing the lattice data.\n",
    "        \"\"\"\n",
    "        self.data = data\n",
    "\n",
    "    def __len__(self):\n",
    "        return len(self.data)\n",
    "\n",
    "    def __getitem__(self, idx):\n",
    "        input_lattice = self.data[idx, 0]\n",
    "        output_lattice = self.data[idx, 1]\n",
    "        return input_lattice, output_lattice"
   ],
   "metadata": {
    "collapsed": false,
    "pycharm": {
     "name": "#%%\n"
    }
   }
  },
  {
   "cell_type": "code",
   "execution_count": 13,
   "outputs": [],
   "source": [
    "#create synthetic data\n",
    "n = 100\n",
    "grid_size = (n,n)\n",
    "grid = torch.zeros(grid_size, dtype=torch.int8)\n",
    "grid[int(n/2),int(n/2)] = 1\n",
    "\n",
    "tau = 50 #number of time step per simulation\n",
    "nSim = 100 #number of simulations\n",
    "res = torch.empty(tau*nSim,n,n)\n",
    "\n",
    "\n",
    "\n",
    "#TRUE VALUES\n",
    "betaInf = 0.15 #probability of infection\n",
    "\n",
    "for i in range(tau*nSim):\n",
    "    if i%tau==0:\n",
    "        res[i] = grid\n",
    "        continue\n",
    "    next = SI(res[i-1], betaInf)\n",
    "    res[i] = next\n"
   ],
   "metadata": {
    "collapsed": false,
    "pycharm": {
     "name": "#%%\n"
    }
   }
  },
  {
   "cell_type": "code",
   "execution_count": 14,
   "outputs": [
    {
     "data": {
      "text/plain": "<Figure size 1800x360 with 6 Axes>",
      "image/png": "[encoded data removed]"
     },
     "metadata": {
      "needs_background": "light"
     },
     "output_type": "display_data"
    }
   ],
   "source": [
    "to_be_plotted = res[:50][::10]\n",
    "\n",
    "fig, axs = plt.subplots(1, 6, figsize=(25, 5))  # Adjusting figsize for horizontal layout\n",
    "\n",
    "# Define the colormap\n",
    "colors = ['antiquewhite', 'red']\n",
    "cmap = ListedColormap(colors)\n",
    "\n",
    "# Plot the matrices\n",
    "for i in range(5):\n",
    "    axs[i].matshow(to_be_plotted[i].numpy(), cmap=cmap)\n",
    "    axs[i].set_title(f'Time step {i*10}')\n",
    "    axs[i].axis('off')  # Hide axes for better visualization\n",
    "\n",
    "axs[-1].matshow(res[49].numpy(), cmap=cmap)\n",
    "axs[-1].set_title(f'Time step {50}')\n",
    "axs[-1].axis('off')  # Hide axes for better visualization\n",
    "\n",
    "# Add a main title to the figure\n",
    "fig.suptitle('SI Model', fontsize=40, y=1.05)\n",
    "\n",
    "# Adjust layout to prevent overlap\n",
    "legend_labels = ['Susceptible', 'Infected']\n",
    "legend_colors = ['antiquewhite', 'red']\n",
    "markers = [plt.Line2D([0], [0], marker='o', color='w', markerfacecolor=color, markersize=10, markeredgecolor='black') for color in legend_colors]\n",
    "\n",
    "# Create a new axis for the legend\n",
    "fig.subplots_adjust(bottom=0.25)\n",
    "fig.legend(markers, legend_labels, loc='lower center', fontsize=20, ncol=3, bbox_to_anchor=(0.5, -0.1))\n",
    "\n",
    "plt.tight_layout(rect=[0, 0, 1, 0.95])\n",
    "plt.savefig(\"SI_simulation_path\")\n",
    "\n",
    "plt.show()\n"
   ],
   "metadata": {
    "collapsed": false,
    "pycharm": {
     "name": "#%%\n"
    }
   }
  },
  {
   "cell_type": "code",
   "execution_count": 14,
   "outputs": [],
   "source": [],
   "metadata": {
    "collapsed": false,
    "pycharm": {
     "name": "#%%\n"
    }
   }
  },
  {
   "cell_type": "code",
   "execution_count": 15,
   "outputs": [
    {
     "name": "stdout",
     "output_type": "stream",
     "text": [
      "Epoch [1/10], Model: 0, 0.841240406036377, time: 11.4130\n",
      "Epoch [2/10], Model: 0, 0.6958670616149902, time: 10.8408\n",
      "Epoch [3/10], Model: 0, 0.557481586933136, time: 12.6101\n",
      "Epoch [4/10], Model: 0, 0.4280432164669037, time: 12.0952\n",
      "Epoch [5/10], Model: 0, 0.31241315603256226, time: 13.5688\n",
      "Epoch [6/10], Model: 0, 0.2206895798444748, time: 13.4242\n",
      "Epoch [7/10], Model: 0, 0.1670645922422409, time: 13.4222\n",
      "Epoch [8/10], Model: 0, 0.15245123207569122, time: 15.3066\n",
      "Epoch [9/10], Model: 0, 0.1510610580444336, time: 17.1477\n",
      "Epoch [10/10], Model: 0, 0.1509762555360794, time: 12.7262\n",
      "Epoch [1/10], Model: 1, 0.8373316526412964, time: 12.7367\n",
      "Epoch [2/10], Model: 1, 0.6970739960670471, time: 11.2244\n",
      "Epoch [3/10], Model: 1, 0.5702473521232605, time: 11.9918\n",
      "Epoch [4/10], Model: 1, 0.45961064100265503, time: 11.2211\n",
      "Epoch [5/10], Model: 1, 0.377940833568573, time: 10.7421\n",
      "Epoch [6/10], Model: 1, 0.3375294804573059, time: 11.7630\n",
      "Epoch [7/10], Model: 1, 0.32959169149398804, time: 10.4354\n",
      "Epoch [8/10], Model: 1, 0.32939431071281433, time: 10.5006\n",
      "Epoch [9/10], Model: 1, 0.330120712518692, time: 11.8507\n",
      "Epoch [10/10], Model: 1, 0.3288152515888214, time: 10.2271\n",
      "Epoch [1/10], Model: 2, 0.8401845693588257, time: 10.3062\n",
      "Epoch [2/10], Model: 2, 0.7048063278198242, time: 10.7102\n",
      "Epoch [3/10], Model: 2, 0.5880758166313171, time: 11.2591\n",
      "Epoch [4/10], Model: 2, 0.503122866153717, time: 11.0465\n",
      "Epoch [5/10], Model: 2, 0.45988669991493225, time: 11.6380\n",
      "Epoch [6/10], Model: 2, 0.450448215007782, time: 12.3142\n",
      "Epoch [7/10], Model: 2, 0.45256465673446655, time: 11.9147\n",
      "Epoch [8/10], Model: 2, 0.4522012770175934, time: 10.7789\n",
      "Epoch [9/10], Model: 2, 0.4523135721683502, time: 11.0092\n",
      "Epoch [10/10], Model: 2, 0.451546311378479, time: 11.0209\n"
     ]
    }
   ],
   "source": [
    "n = 100\n",
    "grid_size = (n,n)\n",
    "grid = torch.zeros(grid_size, dtype=torch.int8)\n",
    "grid[int(n/2),int(n/2)] = 1\n",
    "\n",
    "tau = 50 #number of time step per simulation\n",
    "nSim = 100 #number of simulations\n",
    "res = torch.empty(tau*nSim,n,n)\n",
    "\n",
    "\n",
    "num_epochs = 10\n",
    "loss_list = []\n",
    "loss_per_epoch = [[],[],[]]\n",
    "predicted_parameter_inf = [[],[],[]]\n",
    "\n",
    "##DEFINE REAL VALUES OF PARAMETERS\n",
    "beta_infA = 0.15 #probability of infection\n",
    "\n",
    "beta_infB = 0.33 #probability of infection\n",
    "\n",
    "beta_infC = 0.45 #probability of infection\n",
    "\n",
    "beta_inf_list = [beta_infA,beta_infB, beta_infC]\n",
    "\n",
    "for test in range(len(beta_inf_list)):\n",
    "    beta_inf_true = beta_inf_list[test]\n",
    "\n",
    "    #CREATE SYNTHETIC DATA\n",
    "    result_paired = torch.empty(nSim*(tau-1),2,100,100)\n",
    "    for i in range(tau*nSim):\n",
    "        if i%tau==0:\n",
    "            res[i] = grid\n",
    "            continue\n",
    "        next = SI(res[i-1], beta_inf_true)\n",
    "        res[i] = next\n",
    "\n",
    "        if i%2 == 1:\n",
    "            #keeping the right dimensionality for DataLoader input\n",
    "            result_paired[i-1-i//tau] = torch.stack((res[i-1], next.reshape(100,100)))\n",
    "    dataset = StochasticLatticeDataset(result_paired)\n",
    "\n",
    "    # Create DataLoader\n",
    "\n",
    "    # Create DataLoader\n",
    "    data_loader = DataLoader(dataset, batch_size=4, shuffle=True, num_workers=0)\n",
    "    model = MyModel()\n",
    "\n",
    "    # Step 3: Define loss function and optimizer\n",
    "    optimizer = optim.Adam(model.parameters(), lr=0.00015)  # Adam optimizer\n",
    "\n",
    "    for epoch in range(num_epochs):\n",
    "        ll = 0\n",
    "        start_time = time.time()\n",
    "        for inputs, targets in data_loader:\n",
    "            inputs = inputs.to(torch.float32)\n",
    "            targets = targets.to(torch.float32)\n",
    "            # Zero the parameter gradients\n",
    "            optimizer.zero_grad()\n",
    "\n",
    "            # Forward pass\n",
    "            gumbel_sample = sample_gumbel((2,inputs.size()[0],n, n))\n",
    "            outputs = model(x = inputs, sample_gumbel = gumbel_sample, temperature = 0.1)\n",
    "\n",
    "\n",
    "            # Compute loss\n",
    "            loss = torch.mean(torch.mean((outputs-targets)**2, dim=(1,2)))\n",
    "\n",
    "            loss_list.append(loss.item())\n",
    "            ll+=loss.item()\n",
    "            # Backward pass and optimize\n",
    "            loss.backward()\n",
    "            optimizer.step()\n",
    "\n",
    "            predicted_parameter_inf[test].append(model.a.item())\n",
    "\n",
    "\n",
    "        end_time = time.time()\n",
    "        epoch_time = end_time - start_time\n",
    "        loss_per_epoch[test].append(ll)\n",
    "        print(f'Epoch [{epoch+1}/{num_epochs}], Model: {test}, {model.a.item()}, time: {epoch_time:.4f}')\n"
   ],
   "metadata": {
    "collapsed": false,
    "pycharm": {
     "name": "#%%\n"
    }
   }
  },
  {
   "cell_type": "code",
   "execution_count": 16,
   "outputs": [
    {
     "data": {
      "text/plain": "<Figure size 576x432 with 1 Axes>",
      "image/png": "[encoded data removed]"
     },
     "metadata": {
      "needs_background": "light"
     },
     "output_type": "display_data"
    }
   ],
   "source": [
    "x_values = range(len(predicted_parameter_inf[0]))\n",
    "marker_size = 3\n",
    "\n",
    "# Different levels of lightness (shades of blue)\n",
    "lightness_levels = [(0.6, 0.8, 1), (0.3, 0.5, 0.8), (0, 0, 0.6)]\n",
    "\n",
    "plt.figure(figsize=(8, 6))\n",
    "\n",
    "# Infection Parameter Plot\n",
    "for i, param in enumerate(predicted_parameter_inf):\n",
    "    plt.plot(x_values, param, label=f'Test {i+1}', linestyle='-', marker=['o', 's', '^'][i], markersize=marker_size, color=lightness_levels[i])\n",
    "plt.axhline(y=beta_infA, color=lightness_levels[0], linestyle='--')\n",
    "plt.axhline(y=beta_infB, color=lightness_levels[1], linestyle='--')\n",
    "plt.axhline(y=beta_infC, color=lightness_levels[2], linestyle='--')\n",
    "plt.xlabel('Epoch')\n",
    "plt.ylabel('Parameter Estimation')\n",
    "plt.title('Infection Parameter')\n",
    "plt.legend()\n",
    "plt.grid(True)\n",
    "\n",
    "plt.tight_layout()\n",
    "plt.savefig('SI_param_estim.png')\n",
    "\n",
    "plt.show()\n"
   ],
   "metadata": {
    "collapsed": false,
    "pycharm": {
     "name": "#%%\n"
    }
   }
  },
  {
   "cell_type": "code",
   "execution_count": 17,
   "outputs": [
    {
     "data": {
      "text/plain": "<Figure size 720x432 with 1 Axes>",
      "image/png": "[encoded data removed]"
     },
     "metadata": {
      "needs_background": "light"
     },
     "output_type": "display_data"
    }
   ],
   "source": [
    "plt.figure(figsize=(10, 6))\n",
    "plt.plot(loss_per_epoch[0], marker='o', linestyle='-', color='b')\n",
    "\n",
    "# Add titles and labels\n",
    "plt.title('Aggregate Loss Over Epochs - SI model')\n",
    "plt.xlabel('Epoch')\n",
    "plt.ylabel('Loss')\n",
    "\n",
    "# Optionally add grid\n",
    "plt.grid(True)\n",
    "\n",
    "# Show the plot\n",
    "plt.show()\n",
    "\n"
   ],
   "metadata": {
    "collapsed": false,
    "pycharm": {
     "name": "#%%\n"
    }
   }
  }
 ],
 "metadata": {
  "kernelspec": {
   "display_name": "Python 3",
   "language": "python",
   "name": "python3"
  },
  "language_info": {
   "codemirror_mode": {
    "name": "ipython",
    "version": 2
   },
   "file_extension": ".py",
   "mimetype": "text/x-python",
   "name": "python",
   "nbconvert_exporter": "python",
   "pygments_lexer": "ipython2",
   "version": "2.7.6"
  }
 },
 "nbformat": 4,
 "nbformat_minor": 0
}