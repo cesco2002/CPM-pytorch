{
 "cells": [
  {
   "cell_type": "code",
   "execution_count": 47,
   "metadata": {
    "collapsed": true
   },
   "outputs": [],
   "source": [
    "import torch\n",
    "import torch.nn as nn\n",
    "import torch.optim as optim\n",
    "import torch.nn.functional as F"
   ]
  },
  {
   "cell_type": "markdown",
   "source": [
    "Again a problem of parameter estimation, where now: y = x*Z, where Z~Bern(a) and x are random integers.\n",
    "\n",
    "Problem here relies on both the stochasticity and discreteness of Z. To solve this I used the Gumbel\n",
    "Softmax Trick.\n",
    "\n"
   ],
   "metadata": {
    "collapsed": false,
    "pycharm": {
     "name": "#%% md\n"
    }
   }
  },
  {
   "cell_type": "code",
   "execution_count": 48,
   "outputs": [
    {
     "name": "stdout",
     "output_type": "stream",
     "text": [
      "Epoch [100/1000], Loss: 0.016640987247228622\n",
      "Epoch [200/1000], Loss: 0.005041013937443495\n",
      "Epoch [300/1000], Loss: 0.009408977814018726\n",
      "Epoch [400/1000], Loss: 2.4998760636663064e-05\n",
      "Epoch [500/1000], Loss: 0.007744010537862778\n",
      "Epoch [600/1000], Loss: 0.019881010055541992\n",
      "Epoch [700/1000], Loss: 0.034595951437950134\n",
      "Epoch [800/1000], Loss: 0.001155994599685073\n",
      "Epoch [900/1000], Loss: 0.00672400277107954\n",
      "Epoch [1000/1000], Loss: 0.11902502179145813\n",
      "tensor(3.5530) tensor(3.8980, grad_fn=<MeanBackward0>)\n",
      "True parameter 'a': 0.3333333432674408 Learned parameter 'a': 0.3426192104816437\n"
     ]
    }
   ],
   "source": [
    "def sample_gumbel(shape, eps=1e-20):\n",
    "    U = torch.rand(shape)\n",
    "    return -torch.log(-torch.log(U + eps) + eps)\n",
    "\n",
    "def gumbel_softmax_sample(logits, temperature):\n",
    "    y = logits + sample_gumbel(logits.size())\n",
    "    return F.softmax(y / temperature, dim=-1)\n",
    "\n",
    "##CREATING MY OWN AUTOGRAD\n",
    "\n",
    "torch.manual_seed(0)\n",
    "\n",
    "class STEFunction(torch.autograd.Function):\n",
    "    @staticmethod\n",
    "    def forward(self, x, sample_gumbel, temperature, param):\n",
    "\n",
    "        length = x.size()[1]\n",
    "        logits = torch.tensor([torch.log(1-param), torch.log(param)])\n",
    "        logits = torch.ones(2, length) * logits.view(-1, 1) #create logits for every x\n",
    "        softmax_input = logits + sample_gumbel\n",
    "        z = F.softmax(softmax_input / temperature, dim=0)\n",
    "        y_pred = z.argmax(dim=0)*x\n",
    "        return y_pred\n",
    "\n",
    "    @staticmethod\n",
    "    def backward(ctx, grad_output):\n",
    "        #return None, None, None, F.hardtanh(grad_output)\n",
    "        return None, None, None, grad_output  # <- return the identity function\n",
    "\n",
    "class MyModel(nn.Module):\n",
    "    def __init__(self):\n",
    "        super(MyModel, self).__init__()\n",
    "        self.a = nn.Parameter(torch.tensor([0.5]))  #initializing param 'a'\n",
    "\n",
    "    def forward(self, x, sample_gumbel, temperature):\n",
    "        x = STEFunction.apply(x, sample_gumbel, temperature,self.a)\n",
    "        return x\n",
    "\n",
    "#create synthetic data\n",
    "x_train = torch.randint(0, 21, (1, 1000)).float()  #get some numbers between 0 and 20\n",
    "a_true = torch.tensor(1/3)      # True value of parameter 'a'\n",
    "Z_train = torch.distributions.bernoulli.Bernoulli(a_true).sample(x_train.shape)# Generate Z from Bern distribution\n",
    "y_train = x_train * Z_train\n",
    "\n",
    "model = MyModel()\n",
    "optimizer = optim.SGD(model.parameters(), lr=0.01)\n",
    "epochs = 1000\n",
    "\n",
    "for epoch in range(epochs):\n",
    "    #I think it's also fair to sample the stochastic process outside the loop, would surely be faster\n",
    "    gumbel_sample = sample_gumbel((2,x_train.size()[1]))\n",
    "\n",
    "    y_pred= model(x = x_train, sample_gumbel = gumbel_sample, temperature = 0.1)\n",
    "\n",
    "    loss = (y_pred.mean()-y_train.mean())**2\n",
    "\n",
    "    optimizer.zero_grad()\n",
    "    loss.backward()\n",
    "    optimizer.step()\n",
    "\n",
    "    if (epoch+1) % 100 == 0:\n",
    "        print(f'Epoch [{epoch+1}/{epochs}], Loss: {loss.item()}')\n",
    "\n",
    "print(y_train.mean(), y_pred.mean())\n",
    "print(\"True parameter 'a':\", a_true.item(),\"Learned parameter 'a':\", model.a.item())"
   ],
   "metadata": {
    "collapsed": false,
    "pycharm": {
     "name": "#%%\n"
    }
   }
  },
  {
   "cell_type": "code",
   "execution_count": 48,
   "outputs": [],
   "source": [],
   "metadata": {
    "collapsed": false,
    "pycharm": {
     "name": "#%%\n"
    }
   }
  },
  {
   "cell_type": "code",
   "execution_count": 49,
   "outputs": [
    {
     "name": "stdout",
     "output_type": "stream",
     "text": [
      "tensor(0.3363) tensor(0.3333)\n"
     ]
    }
   ],
   "source": [
    "## simple test to check whether the gumblel softmax trick would work\n",
    "## indeed, it simulates a Bern(a) distribution\n",
    "tot = 0\n",
    "for i in range(10000):\n",
    "    logits = torch.tensor([torch.log(1-a_true), torch.log(a_true)])\n",
    "    z = gumbel_softmax_sample(logits, 1)\n",
    "    tot+=z.argmax() #the output of argmax is a position in z, hence either 0 or 1 <=> filp a coin\n",
    "print(tot/10000, a_true)\n",
    "\n"
   ],
   "metadata": {
    "collapsed": false,
    "pycharm": {
     "name": "#%%\n"
    }
   }
  },
  {
   "cell_type": "code",
   "execution_count": 49,
   "outputs": [],
   "source": [
    "\n",
    "\n"
   ],
   "metadata": {
    "collapsed": false,
    "pycharm": {
     "name": "#%%\n"
    }
   }
  }
 ],
 "metadata": {
  "kernelspec": {
   "display_name": "Python 3",
   "language": "python",
   "name": "python3"
  },
  "language_info": {
   "codemirror_mode": {
    "name": "ipython",
    "version": 2
   },
   "file_extension": ".py",
   "mimetype": "text/x-python",
   "name": "python",
   "nbconvert_exporter": "python",
   "pygments_lexer": "ipython2",
   "version": "2.7.6"
  }
 },
 "nbformat": 4,
 "nbformat_minor": 0
}
