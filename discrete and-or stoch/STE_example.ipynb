{
 "cells": [
  {
   "cell_type": "code",
   "execution_count": 18,
   "metadata": {
    "collapsed": true
   },
   "outputs": [],
   "source": [
    "import torch\n",
    "import torch.nn as nn\n",
    "import torch.optim as optim\n",
    "import torch.nn.functional as F"
   ]
  },
  {
   "cell_type": "markdown",
   "source": [
    "In this example I am going to apply Straight Through Estimator technique in order to\n",
    "be able to compute the gradient of a discrete function.\n",
    "\n",
    "The way I am going to apply this is through parameter estimation.\n",
    "\n",
    "Starting from a given function y= a * sign(x) [sign(x) = x/|x|], I create some synthetic data\n",
    "from a given 'a' of my chice and then create a model that tries to estimate the correct parameter"
   ],
   "metadata": {
    "collapsed": false
   }
  },
  {
   "cell_type": "code",
   "execution_count": 19,
   "outputs": [
    {
     "name": "stdout",
     "output_type": "stream",
     "text": [
      "Epoch [100/1000], Loss: 2.878908157348633\n",
      "Epoch [200/1000], Loss: 0.5116955041885376\n",
      "Epoch [300/1000], Loss: 0.09094812721014023\n",
      "Epoch [400/1000], Loss: 0.01616493985056877\n",
      "Epoch [500/1000], Loss: 0.0028730907943099737\n",
      "Epoch [600/1000], Loss: 0.000510769197717309\n",
      "Epoch [700/1000], Loss: 9.079359006136656e-05\n",
      "Epoch [800/1000], Loss: 1.6134763427544385e-05\n",
      "Epoch [900/1000], Loss: 2.864013595171855e-06\n",
      "Epoch [1000/1000], Loss: 5.090328727419546e-07\n",
      "True parameter 'a': 5.0 Learned parameter 'a': 4.999290943145752\n"
     ]
    }
   ],
   "source": [
    "torch.manual_seed(0)\n",
    "\n",
    "#customized function for automatic differentiation\n",
    "class STEFunction(torch.autograd.Function):\n",
    "    @staticmethod\n",
    "    def forward(ctx, input, param):\n",
    "        return torch.sign(input)*param\n",
    "\n",
    "    @staticmethod\n",
    "    def backward(ctx, grad_output):\n",
    "        #return None, F.hardtanh(grad_output)\n",
    "        return None, grad_output             # <- return identity function\n",
    "        #return None, torch.tanh(grad_output)\n",
    "\n",
    "\n",
    "class StraightThroughEstimator(nn.Module):\n",
    "    def __init__(self):\n",
    "        super(StraightThroughEstimator, self).__init__()\n",
    "        self.a = nn.Parameter(torch.tensor([1.0]))\n",
    "    def forward(self, x):\n",
    "        x = STEFunction.apply(x,self.a)\n",
    "        return x\n",
    "\n",
    "# Generate input data\n",
    "x = torch.randint(-100, 101, (1, 1000)).float()  # Generate 1000 random integers between -100 and 100\n",
    "a_true = torch.tensor([5.0])  # True value of parameter 'a'\n",
    "\n",
    "y_true = a_true * torch.sign(x)\n",
    "\n",
    "model = StraightThroughEstimator()\n",
    "\n",
    "# Define optimizer\n",
    "optimizer = optim.SGD(model.parameters(), lr=0.1)\n",
    "epochs = 1000\n",
    "for epoch in range(epochs):\n",
    "\n",
    "    y_pred = model(x)\n",
    "    loss = nn.functional.mse_loss(y_pred, y_true)\n",
    "    optimizer.zero_grad()\n",
    "    loss.backward()\n",
    "\n",
    "    optimizer.step()\n",
    "\n",
    "    if (epoch+1) % 100 == 0:\n",
    "        print(f'Epoch [{epoch+1}/{epochs}], Loss: {loss.item()}')\n",
    "# Get the learned value of parameter 'a'\n",
    "a_learned = model.a.item()\n",
    "print(\"True parameter 'a':\", a_true.item(),\"Learned parameter 'a':\", model.a.item())"
   ],
   "metadata": {
    "collapsed": false,
    "pycharm": {
     "name": "#%%\n"
    }
   }
  },
  {
   "cell_type": "markdown",
   "source": [],
   "metadata": {
    "collapsed": false
   }
  }
 ],
 "metadata": {
  "kernelspec": {
   "display_name": "Python 3",
   "language": "python",
   "name": "python3"
  },
  "language_info": {
   "codemirror_mode": {
    "name": "ipython",
    "version": 2
   },
   "file_extension": ".py",
   "mimetype": "text/x-python",
   "name": "python",
   "nbconvert_exporter": "python",
   "pygments_lexer": "ipython2",
   "version": "2.7.6"
  }
 },
 "nbformat": 4,
 "nbformat_minor": 0
}
