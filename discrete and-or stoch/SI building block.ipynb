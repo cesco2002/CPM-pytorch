{
 "cells": [
  {
   "cell_type": "code",
   "execution_count": 8,
   "metadata": {
    "collapsed": true
   },
   "outputs": [],
   "source": [
    "import torch\n",
    "from matplotlib import pyplot as plt\n",
    "import torch.nn as nn\n",
    "import torch.optim as optim\n",
    "import torch.nn.functional as F\n"
   ]
  },
  {
   "cell_type": "code",
   "execution_count": 9,
   "outputs": [],
   "source": [
    "def sample_gumbel(shape, eps=1e-20):\n",
    "    U = torch.rand(shape)\n",
    "    return -torch.log(-torch.log(U + eps) + eps)\n",
    "\n",
    "def gumbel_softmax_sample(logits, temperature):\n",
    "    y = logits + sample_gumbel(logits.size())\n",
    "    return F.softmax(y / temperature, dim=-1)"
   ],
   "metadata": {
    "collapsed": false,
    "pycharm": {
     "name": "#%%\n"
    }
   }
  },
  {
   "cell_type": "code",
   "execution_count": 10,
   "outputs": [],
   "source": [
    "class STEFunction(torch.autograd.Function):\n",
    "    @staticmethod\n",
    "    def forward(self, x, sample_gumbel, temperature, param):\n",
    "        logits_input = 1-(1-param)**x\n",
    "        #length = x.size()[1]\n",
    "        logits = torch.stack((torch.log(1-logits_input), torch.log(logits_input))).reshape(2,x.size()[1])\n",
    "        softmax_input = logits + sample_gumbel\n",
    "        z = F.softmax(softmax_input / temperature, dim=0)\n",
    "        y_pred = z.argmax(dim=0)\n",
    "        return y_pred.type(torch.FloatTensor)\n",
    "\n",
    "    @staticmethod\n",
    "    def backward(ctx, grad_output):\n",
    "        return None, None, None, F.hardtanh(grad_output)\n",
    "        #return None, None, None, torch.tan(grad_output)  # <- return the identity function\n",
    "\n",
    "class MyModel(nn.Module):\n",
    "    def __init__(self):\n",
    "        super(MyModel, self).__init__()\n",
    "        self.a = nn.Parameter(torch.tensor([0.5]), requires_grad=True)  #initializing param 'a'\n",
    "\n",
    "    def forward(self, x, sample_gumbel, temperature):\n",
    "        x = STEFunction.apply(x, sample_gumbel, temperature,self.a)\n",
    "        return x"
   ],
   "metadata": {
    "collapsed": false,
    "pycharm": {
     "name": "#%%\n"
    }
   }
  },
  {
   "cell_type": "code",
   "execution_count": 11,
   "outputs": [
    {
     "name": "stdout",
     "output_type": "stream",
     "text": [
      "Epoch [100/1000], Loss: 0.00025599912623874843\n",
      "Epoch [200/1000], Loss: 6.400026177288964e-05\n",
      "Epoch [300/1000], Loss: 1.600006544322241e-05\n",
      "Epoch [400/1000], Loss: 1.600006544322241e-05\n",
      "Epoch [500/1000], Loss: 1.600006544322241e-05\n",
      "Epoch [600/1000], Loss: 0.0\n",
      "Epoch [700/1000], Loss: 0.0\n",
      "Epoch [800/1000], Loss: 0.0004840006586164236\n",
      "Epoch [900/1000], Loss: 0.0002249995741294697\n",
      "Epoch [1000/1000], Loss: 0.00012099950981792063\n",
      "tensor(0.7640) tensor(0.7750, grad_fn=<MeanBackward0>)\n",
      "True parameter 'a': 0.3333300054073334 Learned parameter 'a': 0.32972025871276855\n"
     ]
    }
   ],
   "source": [
    "#create synthetic data\n",
    "x_train = torch.randint(1, 9, (1, 1000)).float()  #get some numbers between 0 and 20\n",
    "a_true = torch.tensor(0.33333)      # True value of parameter 'a'\n",
    "\n",
    "parameters = 1-(1-a_true)**x_train\n",
    "y_train = torch.bernoulli(parameters)\n",
    "y_train\n",
    "\n",
    "model = MyModel()\n",
    "optimizer = optim.SGD(model.parameters(), lr=0.01)\n",
    "epochs = 1000\n",
    "\n",
    "for epoch in range(epochs):\n",
    "    #I think it's also fair to sample the stochastic process outside the loop, would surely be faster\n",
    "    gumbel_sample = sample_gumbel((2,x_train.size()[1]))\n",
    "\n",
    "    y_pred= model(x = x_train, sample_gumbel = gumbel_sample, temperature = 0.1)\n",
    "    loss = (y_pred.mean()-y_train.mean())**2\n",
    "\n",
    "    optimizer.zero_grad()\n",
    "    loss.backward()\n",
    "    optimizer.step()\n",
    "\n",
    "    if (epoch+1) % 100 == 0:\n",
    "        print(f'Epoch [{epoch+1}/{epochs}], Loss: {loss.item()}')\n",
    "\n",
    "\n",
    "print(y_train.mean(), y_pred.mean())\n",
    "print(\"True parameter 'a':\", a_true.item(),\"Learned parameter 'a':\", model.a.item())\n"
   ],
   "metadata": {
    "collapsed": false,
    "pycharm": {
     "name": "#%%\n"
    }
   }
  }
 ],
 "metadata": {
  "kernelspec": {
   "display_name": "Python 3",
   "language": "python",
   "name": "python3"
  },
  "language_info": {
   "codemirror_mode": {
    "name": "ipython",
    "version": 2
   },
   "file_extension": ".py",
   "mimetype": "text/x-python",
   "name": "python",
   "nbconvert_exporter": "python",
   "pygments_lexer": "ipython2",
   "version": "2.7.6"
  }
 },
 "nbformat": 4,
 "nbformat_minor": 0
}