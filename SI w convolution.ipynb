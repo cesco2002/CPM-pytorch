{
 "cells": [
  {
   "cell_type": "code",
   "execution_count": 1,
   "metadata": {
    "collapsed": true
   },
   "outputs": [],
   "source": [
    "import torch\n",
    "from matplotlib import pyplot as plt\n",
    "import torch.nn as nn\n",
    "import torch.optim as optim\n",
    "import torch.nn.functional as F"
   ]
  },
  {
   "cell_type": "code",
   "execution_count": 2,
   "outputs": [],
   "source": [
    "def sample_gumbel(shape, eps=1e-20):\n",
    "    U = torch.rand(shape)\n",
    "    return -torch.log(-torch.log(U + eps) + eps)\n",
    "\n",
    "def gumbel_softmax_sample(logits, temperature):\n",
    "    y = logits + sample_gumbel(logits.size())\n",
    "    return F.softmax(y / temperature, dim=-1)\n",
    "\n",
    "\n",
    "def sum_neighbours(x,y,grid):\n",
    "    \"\"\"Given a matrix and a point x,y\n",
    "     outputs the number of infected neighbours of x,y\n",
    "    \"\"\"\n",
    "    N = 0\n",
    "    for i in (-1, 0 ,1):\n",
    "        for j in (-1,0,1):\n",
    "            if i!=0 or j!=0:\n",
    "                N+= grid[x+i,y+j]\n",
    "    return N\n",
    "\n",
    "def accept_infection(x,y,grid_old, grid_new,N,beta):\n",
    "    \"\"\"By construction of the S.I. model, this function, given an \"healthy\" pixel, and\n",
    "    the numbers N of infected neighbours, updates the state of that healthy pixel drawing a\n",
    "    bernoulli distributed random variable with parameter 1-(1-beta)^N.\n",
    "    \"\"\"\n",
    "    if grid_old[x,y] == 0:\n",
    "        param = 1-(1-beta)**N\n",
    "        grid_new[x,y] = torch.distributions.bernoulli.Bernoulli(param).sample(torch.tensor([1]))\n",
    "    return 0\n",
    "\n",
    "\n",
    "def one_simulation(k, grid_new,beta):\n",
    "    #Simulate for k time steps\n",
    "    output = []\n",
    "    for m in range(0,k):\n",
    "        grid_old = grid_new.clone().detach()\n",
    "        for i in range(1,n-1):\n",
    "            for j in range(1,n-1):\n",
    "                N = sum_neighbours(i,j,grid_old)\n",
    "                accept_infection(i,j,grid_old,grid_new, N,beta)\n",
    "        output.append(grid_new.clone())\n",
    "        if m%10 == 0:\n",
    "            print(m/10)\n",
    "    return torch.stack(output, dim=0)\n",
    "\n"
   ],
   "metadata": {
    "collapsed": false,
    "pycharm": {
     "name": "#%%\n"
    }
   }
  },
  {
   "cell_type": "code",
   "execution_count": 3,
   "outputs": [
    {
     "name": "stdout",
     "output_type": "stream",
     "text": [
      "Original binary tensor:\n",
      "tensor([[0., 1., 0., 1.],\n",
      "        [1., 0., 0., 1.],\n",
      "        [1., 1., 0., 0.],\n",
      "        [0., 0., 1., 0.]])\n",
      "\n",
      "Number of neighbors with value greater than one:\n",
      "tensor([[2., 1., 3., 1.],\n",
      "        [3., 4., 4., 1.],\n",
      "        [2., 3., 3., 2.],\n",
      "        [2., 3., 1., 1.]])\n"
     ]
    }
   ],
   "source": [
    "#TRYING TO TEST THE Conv2d function\n",
    "# Define your binary tensor, for example, a 4x4 tensor\n",
    "binary_tensor = torch.tensor([[0, 1, 0, 1],\n",
    "                              [1, 0, 0, 1],\n",
    "                              [1, 1, 0, 0],\n",
    "                              [0, 0, 1, 0]], dtype=torch.float32)\n",
    "\n",
    "# in order for Conv2d to work, the tensor needs 3 or 4 dimensions\n",
    "binary_tensor = binary_tensor.unsqueeze(0)\n",
    "\n",
    "# Define the 3x3 kernel with all values set to 1\n",
    "kernel = torch.ones(1, 1, 3, 3, dtype=torch.float32)\n",
    "\n",
    "kernel[0][0][1][1] = 0 #middle coefficient set to 0\n",
    "\n",
    "# Perform convolution\n",
    "neighbors_count = F.conv2d(binary_tensor, kernel, padding=1)  # Padding to keep output size same as input\n",
    "\n",
    "# Count the number of neighbors with value greater than one\n",
    "#neighbors_count = convolved - binary_tensor\n",
    "\n",
    "print(\"Original binary tensor:\")\n",
    "print(binary_tensor.squeeze())\n",
    "print(\"\\nNumber of neighbors with value greater than one:\")\n",
    "print(neighbors_count.squeeze())"
   ],
   "metadata": {
    "collapsed": false,
    "pycharm": {
     "name": "#%%\n"
    }
   }
  },
  {
   "cell_type": "code",
   "execution_count": 4,
   "outputs": [
    {
     "name": "stdout",
     "output_type": "stream",
     "text": [
      "torch.Size([4, 4])\n"
     ]
    },
    {
     "data": {
      "text/plain": "tensor([[[2., 0., 3., 0.],\n         [0., 4., 4., 0.],\n         [0., 0., 3., 2.],\n         [2., 3., 0., 1.]]])"
     },
     "execution_count": 4,
     "metadata": {},
     "output_type": "execute_result"
    }
   ],
   "source": [
    "neighbors_count[binary_tensor==1] = 0\n",
    "print(neighbors_count[0].size()\n",
    ")\n",
    "\n",
    "#trying to mimic the SI model\n",
    "betaaa = torch.tensor([0.3], requires_grad=True)\n",
    "xx = 1-(1-betaaa)**neighbors_count\n",
    "fakeloss = xx.sum()-5\n",
    "neighbors_count"
   ],
   "metadata": {
    "collapsed": false,
    "pycharm": {
     "name": "#%%\n"
    }
   }
  },
  {
   "cell_type": "code",
   "execution_count": 5,
   "outputs": [
    {
     "data": {
      "text/plain": "tensor([12.3540])"
     },
     "execution_count": 5,
     "metadata": {},
     "output_type": "execute_result"
    }
   ],
   "source": [
    "fakeloss.backward()\n",
    "betaaa.grad ## differentiable!!!"
   ],
   "metadata": {
    "collapsed": false,
    "pycharm": {
     "name": "#%%\n"
    }
   }
  },
  {
   "cell_type": "code",
   "execution_count": 6,
   "outputs": [],
   "source": [
    "class STEFunction(torch.autograd.Function):\n",
    "    @staticmethod\n",
    "    def forward(self, x, sample_gumbel, temperature, param):\n",
    "        \"\"\"Gumbel-softmax trick that given a list of values of N (neigbours),\n",
    "        outputs whether every item in the list is accepted or not\n",
    "        \"\"\"\n",
    "        x = x.unsqueeze(0) # Add a dimension to the starting grid\n",
    "\n",
    "        # Define the 3x3 kernel with all values set to 1\n",
    "        kernel = torch.ones(1, 1, 3, 3, dtype=torch.float32)\n",
    "        # and middle value to 0\n",
    "        kernel[0][0][1][1] = 0\n",
    "\n",
    "        # Perform convolution\n",
    "        neighbors_count = F.conv2d(x, kernel, padding=1)\n",
    "\n",
    "        #GUMBEL - SOFTMAX TRICK THAT BEHAVES LIKE ~Bern(1-(1-beta)^N)\n",
    "        #here I always keep the dimensionality of n x n\n",
    "        logits_input = 1-(1-param)**neighbors_count\n",
    "        logits = torch.stack((torch.log(1-logits_input), torch.log(logits_input))).reshape((2,x.size()[1],x.size()[2]))\n",
    "        softmax_input = logits + sample_gumbel\n",
    "        z = F.softmax(softmax_input / temperature, dim=0)\n",
    "        y_pred = z.argmax(dim=0)\n",
    "\n",
    "        # making sure that if a pixel was already infected, stays infected\n",
    "        y_pred[x[0]==1] = 1\n",
    "\n",
    "        #making sure that an healthy pixel with no neighbours doesnt get infected\n",
    "        y_pred[neighbors_count[0]==0] = 0\n",
    "\n",
    "        return y_pred.type(torch.FloatTensor)\n",
    "\n",
    "    @staticmethod\n",
    "    def backward(ctx, grad_output):\n",
    "        \"\"\"\"Straight through estimator\n",
    "        \"\"\"\n",
    "        #return None, None, None, grad_output\n",
    "        return None, None, None, torch.tan(grad_output)  # <- return the identity function\n",
    "\n",
    "class MyModel(nn.Module):\n",
    "    def __init__(self):\n",
    "        super(MyModel, self).__init__()\n",
    "        self.a = nn.Parameter(torch.tensor([0.5]), requires_grad=True)  #initializing param 'a'\n",
    "\n",
    "    def forward(self, x, sample_gumbel, temperature):\n",
    "        x = STEFunction.apply(x, sample_gumbel, temperature,self.a)\n",
    "        return x"
   ],
   "metadata": {
    "collapsed": false,
    "pycharm": {
     "name": "#%%\n"
    }
   }
  },
  {
   "cell_type": "code",
   "execution_count": 9,
   "outputs": [],
   "source": [
    "### IF YOU HAVE THE FILE, UPLOAD IT BY RUNNING THIS CELL,\n",
    "### ONLY OTHERWISE RUN THE NEXT CELL\n",
    "res = torch.load('Beta is 03333 and Nsim is 20.pt')\n",
    "n = 100\n",
    "grid_size = (n,n)\n",
    "tau = 50\n",
    "NSimumlation = 10\n",
    "betaTrue = 0.3333333"
   ],
   "metadata": {
    "collapsed": false,
    "pycharm": {
     "name": "#%%\n"
    }
   }
  },
  {
   "cell_type": "code",
   "execution_count": 15,
   "outputs": [
    {
     "name": "stdout",
     "output_type": "stream",
     "text": [
      "0.0\n",
      "1.0\n",
      "2.0\n",
      "3.0\n",
      "4.0\n",
      "0\n",
      "0.0\n",
      "1.0\n",
      "2.0\n",
      "3.0\n",
      "4.0\n",
      "1\n",
      "0.0\n",
      "1.0\n",
      "2.0\n",
      "3.0\n",
      "4.0\n",
      "2\n",
      "0.0\n",
      "1.0\n",
      "2.0\n",
      "3.0\n",
      "4.0\n",
      "3\n",
      "0.0\n",
      "1.0\n",
      "2.0\n",
      "3.0\n",
      "4.0\n",
      "4\n",
      "0.0\n",
      "1.0\n",
      "2.0\n",
      "3.0\n",
      "4.0\n",
      "5\n",
      "0.0\n",
      "1.0\n",
      "2.0\n",
      "3.0\n",
      "4.0\n",
      "6\n",
      "0.0\n",
      "1.0\n",
      "2.0\n",
      "3.0\n",
      "4.0\n",
      "7\n",
      "0.0\n",
      "1.0\n",
      "2.0\n",
      "3.0\n",
      "4.0\n",
      "8\n",
      "0.0\n",
      "1.0\n",
      "2.0\n",
      "3.0\n",
      "4.0\n",
      "9\n"
     ]
    }
   ],
   "source": [
    "betaTrue = 0.3333333\n",
    "\n",
    "#THIS TAKES A WHILE\n",
    "\n",
    "#generate  N simulations where population is n x n and goes up until time step tau\n",
    "#always start with an only infected pixel in the middle\n",
    "n = 100\n",
    "grid_size = (n,n)\n",
    "grid = torch.zeros(grid_size, dtype=torch.int8)\n",
    "grid[int(n/2),int(n/2)] = 1\n",
    "tau = 50\n",
    "NSimumlation = 10\n",
    "#res = one_simulation(tau,grid,betaT)\n",
    "res = one_simulation(tau,grid,betaTrue)\n",
    "for sim in range(NSimumlation):  #10:07\n",
    "    grid = torch.zeros(grid_size, dtype=torch.int8)\n",
    "    grid[int(n/2),int(n/2)] = 1\n",
    "\n",
    "    res1 = one_simulation(tau,grid,betaTrue)\n",
    "    res = torch.vstack((res,res1))\n",
    "    print(sim)\n"
   ],
   "metadata": {
    "collapsed": false,
    "pycharm": {
     "name": "#%%\n"
    }
   }
  },
  {
   "cell_type": "code",
   "execution_count": 10,
   "outputs": [
    {
     "name": "stdout",
     "output_type": "stream",
     "text": [
      "Epoch [1/15], Loss: 0.017999999225139618,  parameter: 0.43882182240486145\n",
      "Epoch [2/15], Loss: 0.01679999940097332,  parameter: 0.3983713686466217\n",
      "Epoch [3/15], Loss: 0.019200000911951065,  parameter: 0.37266868352890015\n",
      "Epoch [4/15], Loss: 0.01860000006854534,  parameter: 0.3571324348449707\n",
      "Epoch [5/15], Loss: 0.01759999990463257,  parameter: 0.34787771105766296\n",
      "Epoch [6/15], Loss: 0.019999999552965164,  parameter: 0.34176549315452576\n",
      "Epoch [7/15], Loss: 0.017899999395012856,  parameter: 0.33822357654571533\n",
      "Epoch [8/15], Loss: 0.020099999383091927,  parameter: 0.33620136976242065\n",
      "Epoch [9/15], Loss: 0.021299999207258224,  parameter: 0.334945410490036\n",
      "Epoch [10/15], Loss: 0.01860000006854534,  parameter: 0.3345251977443695\n",
      "Epoch [11/15], Loss: 0.019300000742077827,  parameter: 0.33389705419540405\n",
      "Epoch [12/15], Loss: 0.018200000748038292,  parameter: 0.33329835534095764\n",
      "Epoch [13/15], Loss: 0.01759999990463257,  parameter: 0.3334141969680786\n",
      "Epoch [14/15], Loss: 0.017899999395012856,  parameter: 0.33352455496788025\n",
      "Epoch [15/15], Loss: 0.019300000742077827,  parameter: 0.33335286378860474\n",
      "True parameter: 0.3333333, Learned param: 0.33335286378860474\n"
     ]
    }
   ],
   "source": [
    "model = MyModel()\n",
    "optimizer = optim.SGD(model.parameters(), lr=0.01)\n",
    "epochs = 15\n",
    "for epoch in range(epochs):\n",
    "    for i in range(res.size()[0]):\n",
    "        #skip when you reach the final time step of the simulation\n",
    "        if i %tau == 49:\n",
    "            continue\n",
    "        #I think it's also fair to sample the stochastic process outside the loop, would surely be faster\n",
    "        gumbel_sample = sample_gumbel((2,n, n))\n",
    "        input_data = res[i].type(torch.FloatTensor)\n",
    "        y_pred= model(x = input_data, sample_gumbel = gumbel_sample, temperature = 0.1)\n",
    "\n",
    "        loss =  torch.mean((y_pred - res[i+1])**2)\n",
    "\n",
    "        #loss =  (y_pred.mean() - res[i+1].type(torch.FloatTensor).mean())**2\n",
    "\n",
    "        optimizer.zero_grad()\n",
    "        loss.backward()\n",
    "        optimizer.step()\n",
    "\n",
    "    print(f'Epoch [{epoch+1}/{epochs}], Loss: {loss.item()},  parameter: {model.a.item()}')\n",
    "    #print(model.a.item(), model.a.grad, loss)\n",
    "print(f'True parameter: {betaTrue}, Learned param: {model.a.item()}')"
   ],
   "metadata": {
    "collapsed": false,
    "pycharm": {
     "name": "#%%\n"
    }
   }
  },
  {
   "cell_type": "code",
   "execution_count": 33,
   "outputs": [],
   "source": [
    "torch.save(res, \"Beta is 03333 and Nsim is {}.pt\".format(int(res.size()[0]/tau)))"
   ],
   "metadata": {
    "collapsed": false,
    "pycharm": {
     "name": "#%%\n"
    }
   }
  },
  {
   "cell_type": "code",
   "execution_count": 10,
   "outputs": [],
   "source": [
    "\n"
   ],
   "metadata": {
    "collapsed": false,
    "pycharm": {
     "name": "#%%\n"
    }
   }
  }
 ],
 "metadata": {
  "kernelspec": {
   "display_name": "Python 3",
   "language": "python",
   "name": "python3"
  },
  "language_info": {
   "codemirror_mode": {
    "name": "ipython",
    "version": 2
   },
   "file_extension": ".py",
   "mimetype": "text/x-python",
   "name": "python",
   "nbconvert_exporter": "python",
   "pygments_lexer": "ipython2",
   "version": "2.7.6"
  }
 },
 "nbformat": 4,
 "nbformat_minor": 0
}