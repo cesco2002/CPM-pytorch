{
 "cells": [
  {
   "cell_type": "code",
   "execution_count": 1,
   "metadata": {
    "collapsed": true
   },
   "outputs": [],
   "source": [
    "import torch\n",
    "from matplotlib import pyplot as plt\n",
    "import torch.nn as nn\n",
    "import torch.optim as optim\n",
    "import torch.nn.functional as F\n"
   ]
  },
  {
   "cell_type": "code",
   "execution_count": 2,
   "outputs": [],
   "source": [
    "def sample_gumbel(shape, eps=1e-20):\n",
    "    U = torch.rand(shape)\n",
    "    return -torch.log(-torch.log(U + eps) + eps)\n",
    "\n",
    "def gumbel_softmax_sample(logits, temperature):\n",
    "    y = logits + sample_gumbel(logits.size())\n",
    "    return F.softmax(y / temperature, dim=-1)"
   ],
   "metadata": {
    "collapsed": false,
    "pycharm": {
     "name": "#%%\n"
    }
   }
  },
  {
   "cell_type": "code",
   "execution_count": 3,
   "outputs": [],
   "source": [
    "class STEFunction(torch.autograd.Function):\n",
    "    @staticmethod\n",
    "    def forward(self, x, sample_gumbel, temperature, param):\n",
    "        \"\"\"Gumbel-softmax trick that given a list of values of N (neigbours),\n",
    "        outputs whether every item in the list is accepted or not\n",
    "        \"\"\"\n",
    "        logits_input = 1-(1-param)**x\n",
    "        logits = torch.stack((torch.log(1-logits_input), torch.log(logits_input))).reshape(2,x.size()[1])\n",
    "        softmax_input = logits + sample_gumbel\n",
    "        z = F.softmax(softmax_input / temperature, dim=0)\n",
    "        y_pred = z.argmax(dim=0)\n",
    "        return y_pred.type(torch.FloatTensor)\n",
    "\n",
    "    @staticmethod\n",
    "    def backward(ctx, grad_output):\n",
    "        \"\"\"\"Straight through estimator\n",
    "        \"\"\"\n",
    "        return None, None, None, F.hardtanh(grad_output)\n",
    "        #return None, None, None, torch.tan(grad_output)  # <- return the identity function\n",
    "\n",
    "class MyModel(nn.Module):\n",
    "    def __init__(self):\n",
    "        super(MyModel, self).__init__()\n",
    "        self.a = nn.Parameter(torch.tensor([0.5]), requires_grad=True)  #initializing param 'a'\n",
    "\n",
    "    def forward(self, x, sample_gumbel, temperature):\n",
    "        x = STEFunction.apply(x, sample_gumbel, temperature,self.a)\n",
    "        return x"
   ],
   "metadata": {
    "collapsed": false,
    "pycharm": {
     "name": "#%%\n"
    }
   }
  },
  {
   "cell_type": "code",
   "execution_count": 3,
   "outputs": [],
   "source": [],
   "metadata": {
    "collapsed": false,
    "pycharm": {
     "name": "#%%\n"
    }
   }
  },
  {
   "cell_type": "code",
   "execution_count": 4,
   "outputs": [],
   "source": [
    "##CREATION OF THE DATA\n",
    "\n",
    "\n",
    "def sum_neighbours(x,y,grid):\n",
    "    \"\"\"Given a matrix and a point x,y\n",
    "     outputs the number of infected neighbours of x,y\n",
    "    \"\"\"\n",
    "    N = 0\n",
    "    for i in (-1, 0 ,1):\n",
    "        for j in (-1,0,1):\n",
    "            if i!=0 or j!=0:\n",
    "                N+= grid[x+i,y+j]\n",
    "    return N\n",
    "\n",
    "def accept_infection(x,y,grid_old, grid_new,N,beta):\n",
    "    \"\"\"By construction of the S.I. model, this function, given an \"healthy\" pixel, and\n",
    "    the numbers N of infected neighbours, updates the state of that healthy pixel drawing a\n",
    "    bernoulli distributed random variable with parameter 1-(1-beta)^N.\n",
    "    \"\"\"\n",
    "    if grid_old[x,y] == 0:\n",
    "        param = 1-(1-beta)**N\n",
    "        grid_new[x,y] = torch.distributions.bernoulli.Bernoulli(param).sample(torch.tensor([1]))\n",
    "    return 0\n",
    "\n",
    "import numpy as np\n",
    "\n",
    "def one_simulation(k, grid_new):\n",
    "    #Simulate for k time steps\n",
    "    output = []\n",
    "    for m in range(0,k):\n",
    "        grid_old = grid_new.clone().detach()\n",
    "        for i in range(1,n-1):\n",
    "            for j in range(1,n-1):\n",
    "                N = sum_neighbours(i,j,grid_old)\n",
    "                accept_infection(i,j,grid_old,grid_new, N,beta)\n",
    "        output.append(grid_new.clone())\n",
    "        if m%10 == 0:\n",
    "            print(m/10)\n",
    "    return torch.stack(output, dim=0)\n",
    "\n",
    "\n",
    "def healthy_neighbours(grid):\n",
    "    \"\"\"given the matrix, this function outputs the coordinates of the healthy pixels\n",
    "    (only those who can be infected) and the respective number of neighbouts\n",
    "    \"\"\"\n",
    "\n",
    "    n=grid.size()[0]\n",
    "    output = []\n",
    "    for x in range(1,n-1):\n",
    "        for y in range(1,n-1):\n",
    "            if grid[x,y] ==0:\n",
    "                N = 0\n",
    "                for m in (-1, 0 ,1):\n",
    "                    for q in (-1,0,1):\n",
    "                        if n!=0 or q!=0:\n",
    "                            N+= grid[m+x,q+y]\n",
    "                if N>0:\n",
    "                    output.append(((x,y),N.item()))\n",
    "    return output"
   ],
   "metadata": {
    "collapsed": false,
    "pycharm": {
     "name": "#%%\n"
    }
   }
  },
  {
   "cell_type": "code",
   "execution_count": 5,
   "outputs": [
    {
     "name": "stdout",
     "output_type": "stream",
     "text": [
      "0.0\n",
      "1.0\n",
      "2.0\n",
      "3.0\n",
      "4.0\n"
     ]
    }
   ],
   "source": [
    "#set true beta\n",
    "beta = 0.222222222\n",
    "\n",
    "#THIS TAKES A WHILE\n",
    "\n",
    "#generate a simulation where population is n x n and goes up until time step tau\n",
    "#always start with an only infected pixel in the middle\n",
    "n = 100\n",
    "grid_size = (n,n)\n",
    "grid = torch.zeros(grid_size, dtype=torch.int8)\n",
    "grid[int(n/2),int(n/2)] = 1\n",
    "tau = 50\n",
    "res = one_simulation(tau,grid) #has size tau, n, n"
   ],
   "metadata": {
    "collapsed": false,
    "pycharm": {
     "name": "#%%\n"
    }
   }
  },
  {
   "cell_type": "code",
   "execution_count": 6,
   "outputs": [
    {
     "data": {
      "text/plain": "tensor([   2,    6,   14,   23,   41,   56,   75,   96,  123,  154,  180,  223,\n         266,  305,  342,  393,  445,  512,  576,  637,  701,  770,  844,  918,\n         997, 1080, 1159, 1252, 1351, 1454, 1556, 1677, 1799, 1919, 2036, 2162,\n        2301, 2434, 2569, 2709, 2854, 3004, 3149, 3305, 3463, 3630, 3796, 3951,\n        4120, 4321])"
     },
     "execution_count": 6,
     "metadata": {},
     "output_type": "execute_result"
    }
   ],
   "source": [
    "#ouputs the total infected per time step\n",
    "summed = torch.sum(res, axis=(1,2))\n",
    "summed"
   ],
   "metadata": {
    "collapsed": false,
    "pycharm": {
     "name": "#%%\n"
    }
   }
  },
  {
   "cell_type": "code",
   "execution_count": 7,
   "outputs": [],
   "source": [
    "\n",
    "\n",
    "#apply the healthy_neighbours function for every time step and append all the outputs\n",
    "merged_list = [torch.tensor([[item[1] for item in neighbours]]).float() for neighbours in [healthy_neighbours(res[i]) for i in range(tau)]]\n"
   ],
   "metadata": {
    "collapsed": false,
    "pycharm": {
     "name": "#%%\n"
    }
   }
  },
  {
   "cell_type": "code",
   "execution_count": 8,
   "outputs": [
    {
     "data": {
      "text/plain": "torch.Size([1, 9973])"
     },
     "execution_count": 8,
     "metadata": {},
     "output_type": "execute_result"
    }
   ],
   "source": [
    "#transform everything in a tensor in order to create my final training data\n",
    "merged_tensor = torch.empty(1)\n",
    "for i in range(tau-1):\n",
    "    merged_tensor = torch.hstack((merged_tensor, merged_list[i][0]))\n",
    "merged_tensor = torch.unsqueeze(merged_tensor, dim = 0) #reshape\n",
    "merged_tensor.size()"
   ],
   "metadata": {
    "collapsed": false,
    "pycharm": {
     "name": "#%%\n"
    }
   }
  },
  {
   "cell_type": "code",
   "execution_count": 11,
   "outputs": [
    {
     "name": "stdout",
     "output_type": "stream",
     "text": [
      "Epoch [100/1000], Loss: 0.012679672800004482\n",
      "Epoch [200/1000], Loss: 0.0007438505999743938\n",
      "Epoch [300/1000], Loss: 0.00010054234735434875\n",
      "Epoch [400/1000], Loss: 1.6991742768368567e-06\n",
      "Epoch [500/1000], Loss: 5.791279363620561e-06\n",
      "Epoch [600/1000], Loss: 1.6086488585642655e-07\n",
      "Epoch [700/1000], Loss: 7.882546924520284e-06\n",
      "Epoch [800/1000], Loss: 1.690123463049531e-05\n",
      "Epoch [900/1000], Loss: 6.434691022150218e-05\n",
      "Epoch [1000/1000], Loss: 3.382253635209054e-05\n",
      "0.22370506823062897\n"
     ]
    }
   ],
   "source": [
    "model = MyModel()\n",
    "optimizer = optim.SGD(model.parameters(), lr=0.005)\n",
    "epochs = 1000\n",
    "for epoch in range(epochs):\n",
    "    #I think it's also fair to sample the stochastic process outside the loop, would surely be faster\n",
    "    gumbel_sample = sample_gumbel((2,merged_tensor.size()[1]))\n",
    "\n",
    "    y_pred= model(x = merged_tensor, sample_gumbel = gumbel_sample, temperature = 0.1)\n",
    "    loss = (y_pred.mean()-summed[tau-1]/merged_tensor.size()[1])**2\n",
    "\n",
    "    optimizer.zero_grad()\n",
    "    loss.backward()\n",
    "    optimizer.step()\n",
    "\n",
    "    if (epoch+1) % 100 == 0:\n",
    "        print(f'Epoch [{epoch+1}/{epochs}], Loss: {loss.item()}')\n",
    "\n",
    "print(model.a.item())"
   ],
   "metadata": {
    "collapsed": false,
    "pycharm": {
     "name": "#%%\n"
    }
   }
  },
  {
   "cell_type": "code",
   "execution_count": 10,
   "outputs": [
    {
     "data": {
      "text/plain": "<Figure size 576x1440 with 7 Axes>",
      "image/png": "[encoded data removed]"
     },
     "metadata": {
      "needs_background": "light"
     },
     "output_type": "display_data"
    }
   ],
   "source": [
    "\n",
    "## PLOT\n",
    "how_many_subplots = 7\n",
    "show_this_ = torch.empty((7,n,n))\n",
    "for i in range(7):\n",
    "    show_this_[i] = res[i*int(tau/how_many_subplots)]\n",
    "show_this_.size()\n",
    "\n",
    "import matplotlib.pyplot as plt\n",
    "\n",
    "# Assuming matrix_list is your list of matrices\n",
    "# Assuming each matrix has the same dimensions\n",
    "\n",
    "# Set up the figure and axis\n",
    "fig, axs = plt.subplots(how_many_subplots, 1, figsize=(8, 20))\n",
    "\n",
    "# Plot each matrix\n",
    "for i, matrix in enumerate(show_this_):\n",
    "    axs[i].imshow(matrix, cmap='inferno')  # You can change the colormap as needed\n",
    "    axs[i].set_title(f'tau = {i*int(tau/how_many_subplots)}')  # Set a title for each subplot\n",
    "\n",
    "# Adjust layout\n",
    "plt.tight_layout()\n",
    "plt.show()"
   ],
   "metadata": {
    "collapsed": false,
    "pycharm": {
     "name": "#%%\n"
    }
   }
  }
 ],
 "metadata": {
  "kernelspec": {
   "display_name": "Python 3",
   "language": "python",
   "name": "python3"
  },
  "language_info": {
   "codemirror_mode": {
    "name": "ipython",
    "version": 2
   },
   "file_extension": ".py",
   "mimetype": "text/x-python",
   "name": "python",
   "nbconvert_exporter": "python",
   "pygments_lexer": "ipython2",
   "version": "2.7.6"
  }
 },
 "nbformat": 4,
 "nbformat_minor": 0
}